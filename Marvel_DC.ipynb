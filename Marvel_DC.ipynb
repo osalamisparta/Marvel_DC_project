{
 "cells": [
  {
   "cell_type": "code",
   "execution_count": 19,
   "id": "e6b9f907",
   "metadata": {},
   "outputs": [
    {
     "data": {
      "text/plain": [
       "0               A-Bomb\n",
       "1           Abe Sapien\n",
       "2             Abin Sur\n",
       "3          Abomination\n",
       "4              Abraxas\n",
       "            ...       \n",
       "729    Yellowjacket II\n",
       "730               Ymir\n",
       "731               Yoda\n",
       "732            Zatanna\n",
       "733               Zoom\n",
       "Name: Name, Length: 734, dtype: object"
      ]
     },
     "execution_count": 19,
     "metadata": {},
     "output_type": "execute_result"
    }
   ],
   "source": [
    "import numpy as np\n",
    "import pandas as pd\n",
    "import seaborn as sns\n",
    "import matplotlib.pyplot as plt\n",
    "\n",
    "df1 = pd.read_csv('marvel_characters_info.csv')\n",
    "df2 = pd.read_csv('charcters_stats.csv')\n",
    "\n",
    "df1['Name']"
   ]
  },
  {
   "cell_type": "code",
   "execution_count": 20,
   "id": "d76121ee",
   "metadata": {},
   "outputs": [
    {
     "data": {
      "text/plain": [
       "0              3-D Man\n",
       "1               A-Bomb\n",
       "2           Abe Sapien\n",
       "3             Abin Sur\n",
       "4          Abomination\n",
       "            ...       \n",
       "606       Yellowjacket\n",
       "607    Yellowjacket II\n",
       "608               Ymir\n",
       "609            Zatanna\n",
       "610               Zoom\n",
       "Name: Name, Length: 611, dtype: object"
      ]
     },
     "execution_count": 20,
     "metadata": {},
     "output_type": "execute_result"
    }
   ],
   "source": [
    "df2['Name']"
   ]
  },
  {
   "cell_type": "code",
   "execution_count": null,
   "id": "4f5f9156",
   "metadata": {},
   "outputs": [],
   "source": [
    "df3 = pd.DataFrame(columns=df2.head())\n",
    "for name in df2['Name']:\n",
    "    if name == df1['Name']:\n",
    "        print (name"
   ]
  }
 ],
 "metadata": {
  "kernelspec": {
   "display_name": "Python 3 (ipykernel)",
   "language": "python",
   "name": "python3"
  },
  "language_info": {
   "codemirror_mode": {
    "name": "ipython",
    "version": 3
   },
   "file_extension": ".py",
   "mimetype": "text/x-python",
   "name": "python",
   "nbconvert_exporter": "python",
   "pygments_lexer": "ipython3",
   "version": "3.9.7"
  }
 },
 "nbformat": 4,
 "nbformat_minor": 5
}
